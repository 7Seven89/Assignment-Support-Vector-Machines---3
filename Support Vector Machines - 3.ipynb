{
 "cells": [
  {
   "cell_type": "markdown",
   "id": "f1bdb541-6f7d-4130-be6d-6bbf1edab217",
   "metadata": {},
   "source": [
    "### Q1. In order to predict house price based on several characteristics, such as location, square footage, number of bedrooms, etc., you are developing an SVM regression model. Which regression metric in this situation would be the best to employ?  \n",
    "Dataset link: [Google Drive](https://drive.google.com/file/d/1Z9oLpmt6IDRNw7IeNcHYTGeJRYypRSC0/view?usp=share_link)\n",
    "\n",
    "### Q2. You have built an SVM regression model and are trying to decide between using MSE or R-squared as your evaluation metric. Which metric would be more appropriate if your goal is to predict the actual price of a house as accurately as possible?\n",
    "\n",
    "### Q3. You have a dataset with a significant number of outliers and are trying to select an appropriate regression metric to use with your SVM model. Which metric would be the most appropriate in this scenario?\n",
    "\n",
    "### Q4. You have built an SVM regression model using a polynomial kernel and are trying to select the best metric to evaluate its performance. You have calculated both MSE and RMSE and found that both values are very close. Which metric should you choose to use in this case?\n",
    "\n",
    "### Q5. You are comparing the performance of different SVM regression models using different kernels (linear, polynomial, and RBF) and are trying to select the best evaluation metric. Which metric would be most appropriate if your goal is to measure how well the model explains the variance in the target variable?\n"
   ]
  },
  {
   "cell_type": "markdown",
   "id": "74839c52-67c8-4b97-b15f-89888a9b7049",
   "metadata": {},
   "source": [
    "# Q1. In order to predict house price based on several characteristics, such as location, square footage, number of bedrooms, etc., you are developing an SVM regression model. Which regression metric in this situation would be the best to employ?\n",
    "\n",
    "When predicting house prices based on various features such as location, square footage, and the number of bedrooms, the best regression metric to use would typically be **Mean Squared Error (MSE)** or **Root Mean Squared Error (RMSE)**. These metrics are suitable for regression problems where you want to minimize the prediction error and penalize larger errors more severely, which is often important in predicting prices where significant deviations can have a large impact.\n",
    "\n",
    "Alternatively, **R-squared** (R²) could also be used if you want to understand how well your model explains the variance in house prices.\n",
    "\n",
    "---"
   ]
  },
  {
   "cell_type": "markdown",
   "id": "7f85d07b-9e1d-45f7-a658-9dcd3dbd094c",
   "metadata": {},
   "source": [
    "# Q2. You have built an SVM regression model and are trying to decide between using MSE or R-squared as your evaluation metric. Which metric would be more appropriate if your goal is to predict the actual price of a house as accurately as possible?\n",
    "\n",
    "In this case, **Mean Squared Error (MSE)** would be a more appropriate metric if the goal is to predict the actual price of the house as accurately as possible. MSE measures the average of the squared differences between predicted and actual values, directly penalizing large prediction errors, which is crucial when trying to achieve high accuracy in predicting house prices.\n",
    "\n",
    "While **R-squared** is useful for understanding how well the model fits the data, it may not fully capture the magnitude of errors in terms of the predicted values.\n",
    "\n",
    "---"
   ]
  },
  {
   "cell_type": "markdown",
   "id": "e8880e85-24a4-44ac-ae2e-99f4867315e6",
   "metadata": {},
   "source": [
    "# Q3. You have a dataset with a significant number of outliers and are trying to select an appropriate regression metric to use with your SVM model. Which metric would be the most appropriate in this scenario?\n",
    "\n",
    "In the presence of outliers, **Mean Absolute Error (MAE)** would be a more appropriate metric. Unlike MSE, which squares the errors and thus gives more weight to outliers, MAE treats all errors equally, making it more robust to outliers. This would prevent the outliers from disproportionately affecting the model evaluation.\n",
    "\n",
    "Alternatively, if you're using a model that can handle outliers better, such as an SVM with an appropriate choice of regularization, you could still use **MSE**, but **MAE** is typically recommended when outliers are a concern.\n",
    "\n",
    "---"
   ]
  },
  {
   "cell_type": "markdown",
   "id": "c2817448-4c13-4c1a-ad3a-bec7f8a7ed97",
   "metadata": {},
   "source": [
    "# Q4. You have built an SVM regression model using a polynomial kernel and are trying to select the best metric to evaluate its performance. You have calculated both MSE and RMSE and found that both values are very close. Which metric should you choose to use in this case?\n",
    "\n",
    "In this case, **Root Mean Squared Error (RMSE)** would be a better metric to use. Since RMSE is the square root of MSE, it brings the error metric back to the same units as the target variable (e.g., house prices). This makes it more interpretable and easier to understand in the context of the actual price predictions. Since MSE and RMSE are very close, the interpretability of RMSE is generally preferred.\n",
    "\n",
    "---"
   ]
  },
  {
   "cell_type": "markdown",
   "id": "9282957a-b09f-4466-aa25-acf6b09fca09",
   "metadata": {},
   "source": [
    "# Q5. You are comparing the performance of different SVM regression models using different kernels (linear, polynomial, and RBF) and are trying to select the best evaluation metric. Which metric would be most appropriate if your goal is to measure how well the model explains the variance in the target variable?\n",
    "\n",
    "In this case, **R-squared (R²)** would be the most appropriate metric. R² measures the proportion of the variance in the target variable that is explained by the model, providing an indication of how well the model fits the data. It is particularly useful when comparing models using different kernels, as it allows you to see how well each kernel-based model explains the variation in the target variable, regardless of the specific scale of the errors.\n",
    "\n",
    "R² can help you determine which kernel is most effective at capturing the underlying patterns in the data.\n",
    "\n",
    "---"
   ]
  }
 ],
 "metadata": {
  "kernelspec": {
   "display_name": "Python 3 (ipykernel)",
   "language": "python",
   "name": "python3"
  },
  "language_info": {
   "codemirror_mode": {
    "name": "ipython",
    "version": 3
   },
   "file_extension": ".py",
   "mimetype": "text/x-python",
   "name": "python",
   "nbconvert_exporter": "python",
   "pygments_lexer": "ipython3",
   "version": "3.12.5"
  }
 },
 "nbformat": 4,
 "nbformat_minor": 5
}
